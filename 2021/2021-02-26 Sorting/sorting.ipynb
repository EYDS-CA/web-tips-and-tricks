{
 "cells": [
  {
   "cell_type": "code",
   "execution_count": 3,
   "metadata": {
    "tags": []
   },
   "outputs": [],
   "source": [
    "type Language = {\n",
    "    languageName: string\n",
    "    level: number\n",
    "}\n",
    "\n",
    "type Interpreter = {\n",
    "    languages: Language[]\n",
    "}\n",
    "\n",
    "function makeInterpreter(languages: Record<string, number>): Interpreter {\n",
    "    return { languages: Object.entries(languages).map(([k, v]) => { return {languageName: k, level: v} }) }\n",
    "}\n",
    "                                  \n",
    "const EXAMPLE_DATA = [\n",
    "    { italian: 3},\n",
    "    { french: 3 },\n",
    "    { 'french (québécois)': 1, italian: 2}\n",
    "].map(makeInterpreter)\n",
    "\n",
    "function logExample(): void {\n",
    "    console.log(JSON.stringify(EXAMPLE_DATA, null, 2))\n",
    "}"
   ]
  },
  {
   "cell_type": "code",
   "execution_count": 4,
   "metadata": {
    "tags": []
   },
   "outputs": [
    {
     "name": "stdout",
     "output_type": "stream",
     "text": [
      "[\n",
      "  {\n",
      "    \"languages\": [\n",
      "      {\n",
      "        \"languageName\": \"italian\",\n",
      "        \"level\": 3\n",
      "      }\n",
      "    ]\n",
      "  },\n",
      "  {\n",
      "    \"languages\": [\n",
      "      {\n",
      "        \"languageName\": \"french\",\n",
      "        \"level\": 3\n",
      "      }\n",
      "    ]\n",
      "  },\n",
      "  {\n",
      "    \"languages\": [\n",
      "      {\n",
      "        \"languageName\": \"french (québécois)\",\n",
      "        \"level\": 1\n",
      "      },\n",
      "      {\n",
      "        \"languageName\": \"italian\",\n",
      "        \"level\": 2\n",
      "      }\n",
      "    ]\n",
      "  }\n",
      "]\n"
     ]
    }
   ],
   "source": [
    "function show(data: any) {\n",
    "    return JSON.stringify(data, null, 2)\n",
    "}\n",
    "\n",
    "show(EXAMPLE_DATA)"
   ]
  },
  {
   "cell_type": "code",
   "execution_count": 6,
   "metadata": {
    "tags": []
   },
   "outputs": [],
   "source": [
    "const languageArraySort = (language: string, subField: string = 'level') => {\n",
    "  return (a: Interpreter, b: Interpreter): number => {\n",
    "    const aLanguages = a.languages.map((f: Language) => f.languageName)\n",
    "    const bLanguages = b.languages.map((f: Language) => f.languageName)\n",
    "    let aI = aLanguages.indexOf(language)\n",
    "    let bI = bLanguages.indexOf(language)\n",
    "    if (aI === -1) {\n",
    "      const match = aLanguages.find((al: string) => al.includes(language))\n",
    "      aI = aLanguages.indexOf(match)\n",
    "    }\n",
    "    if (bI === -1) {\n",
    "      const match = bLanguages.find((bl: string) => bl.includes(language))\n",
    "      bI = bLanguages.indexOf(match)\n",
    "    }\n",
    "    return a.languages[aI === -1 ? 0 : aI][subField] === b.languages[bI === -1 ? 0 : bI][subField]\n",
    "      ? 0\n",
    "      : a.languages[aI === -1 ? 0 : aI][subField] > b.languages[bI === -1 ? 0 : bI][subField] ? 1 : -1\n",
    "  }\n",
    "}"
   ]
  },
  {
   "cell_type": "code",
   "execution_count": 7,
   "metadata": {
    "tags": []
   },
   "outputs": [
    {
     "name": "stdout",
     "output_type": "stream",
     "text": [
      "[\n",
      "  {\n",
      "    \"languages\": [\n",
      "      {\n",
      "        \"languageName\": \"french (québécois)\",\n",
      "        \"level\": 1\n",
      "      },\n",
      "      {\n",
      "        \"languageName\": \"italian\",\n",
      "        \"level\": 2\n",
      "      }\n",
      "    ]\n",
      "  },\n",
      "  {\n",
      "    \"languages\": [\n",
      "      {\n",
      "        \"languageName\": \"italian\",\n",
      "        \"level\": 3\n",
      "      }\n",
      "    ]\n",
      "  },\n",
      "  {\n",
      "    \"languages\": [\n",
      "      {\n",
      "        \"languageName\": \"french\",\n",
      "        \"level\": 3\n",
      "      }\n",
      "    ]\n",
      "  }\n",
      "]\n"
     ]
    }
   ],
   "source": [
    "show(EXAMPLE_DATA.slice().sort(languageArraySort('french')))"
   ]
  },
  {
   "cell_type": "code",
   "execution_count": 8,
   "metadata": {
    "tags": []
   },
   "outputs": [],
   "source": [
    "const languageArraySort2 = (language: string, subField: string = 'level') => {\n",
    "  return (a: Interpreter, b: Interpreter): number => {\n",
    "    function languageLevel(i: Interpreter): number | undefined {\n",
    "        return i\n",
    "            .languages\n",
    "            .find(l => l.languageName.includes(language))\n",
    "            ?.level\n",
    "    } \n",
    "      \n",
    "    const aLevel: number | undefined = languageLevel(a)\n",
    "    const bLevel: number | undefined = languageLevel(b)\n",
    "    \n",
    "    if (aLevel === undefined) {\n",
    "        if (bLevel === undefined) {\n",
    "            return 0\n",
    "        } else {\n",
    "            return 1\n",
    "        }\n",
    "    } else {\n",
    "        if (bLevel === undefined) {\n",
    "            return -1\n",
    "        } else {\n",
    "            return aLevel - bLevel\n",
    "        }\n",
    "    }\n",
    "  }\n",
    "}"
   ]
  },
  {
   "cell_type": "code",
   "execution_count": 9,
   "metadata": {
    "tags": []
   },
   "outputs": [
    {
     "name": "stdout",
     "output_type": "stream",
     "text": [
      "[\n",
      "  {\n",
      "    \"languages\": [\n",
      "      {\n",
      "        \"languageName\": \"french (québécois)\",\n",
      "        \"level\": 1\n",
      "      },\n",
      "      {\n",
      "        \"languageName\": \"italian\",\n",
      "        \"level\": 2\n",
      "      }\n",
      "    ]\n",
      "  },\n",
      "  {\n",
      "    \"languages\": [\n",
      "      {\n",
      "        \"languageName\": \"french\",\n",
      "        \"level\": 3\n",
      "      }\n",
      "    ]\n",
      "  },\n",
      "  {\n",
      "    \"languages\": [\n",
      "      {\n",
      "        \"languageName\": \"italian\",\n",
      "        \"level\": 3\n",
      "      }\n",
      "    ]\n",
      "  }\n",
      "]\n"
     ]
    }
   ],
   "source": [
    "show(EXAMPLE_DATA.slice().sort(languageArraySort2('french')))"
   ]
  },
  {
   "cell_type": "code",
   "execution_count": 10,
   "metadata": {
    "tags": []
   },
   "outputs": [],
   "source": [
    "import _ from 'lodash'"
   ]
  },
  {
   "cell_type": "code",
   "execution_count": 11,
   "metadata": {
    "tags": []
   },
   "outputs": [
    {
     "name": "stdout",
     "output_type": "stream",
     "text": [
      "[\n",
      "  {\n",
      "    \"languages\": [\n",
      "      {\n",
      "        \"languageName\": \"french\",\n",
      "        \"level\": 3\n",
      "      }\n",
      "    ]\n",
      "  },\n",
      "  {\n",
      "    \"languages\": [\n",
      "      {\n",
      "        \"languageName\": \"french (québécois)\",\n",
      "        \"level\": 1\n",
      "      },\n",
      "      {\n",
      "        \"languageName\": \"italian\",\n",
      "        \"level\": 2\n",
      "      }\n",
      "    ]\n",
      "  },\n",
      "  {\n",
      "    \"languages\": [\n",
      "      {\n",
      "        \"languageName\": \"italian\",\n",
      "        \"level\": 3\n",
      "      }\n",
      "    ]\n",
      "  }\n",
      "]\n"
     ]
    }
   ],
   "source": [
    "const exactLanguageLevel = (language: string) => (i: Interpreter) => i.languages.find(l => l.languageName === (language))?.level\n",
    "const approxLanguageLevel = (language: string) => (i: Interpreter) => i.languages.find(l => l.languageName.includes(language))?.level\n",
    "\n",
    "show(_.sortBy(EXAMPLE_DATA.slice(), [exactLanguageLevel('french'), approxLanguageLevel('french')]))"
   ]
  },
  {
   "cell_type": "code",
   "execution_count": 12,
   "metadata": {
    "tags": []
   },
   "outputs": [],
   "source": [
    "class Ordering<T> {\n",
    "    readonly run: (left: T, right: T) => number\n",
    "    \n",
    "    constructor(run: (left: T, right: T) => number) {\n",
    "        this.run = run\n",
    "    }\n",
    "    \n",
    "    then(next: Ordering<T>): Ordering<T> {\n",
    "        return new Ordering(\n",
    "            (left: T, right: T) => {\n",
    "                const thisOrder = this.run(left, right)\n",
    "                if (thisOrder === 0) {\n",
    "                    return next.run(left, right)\n",
    "                } else {\n",
    "                    return thisOrder\n",
    "                }\n",
    "            }\n",
    "        )\n",
    "    }\n",
    "}"
   ]
  },
  {
   "cell_type": "code",
   "execution_count": 13,
   "metadata": {
    "tags": []
   },
   "outputs": [],
   "source": [
    "function compareExactLanguage(language: string): Ordering<Interpreter> {\n",
    "    return new Ordering((a, b) => {\n",
    "        function languageLevel(i: any): number | undefined {\n",
    "            return i\n",
    "                .languages\n",
    "                .find(l => l.languageName === language)\n",
    "                ?.level\n",
    "        } \n",
    "\n",
    "        const aLevel: number | undefined = languageLevel(a)\n",
    "        const bLevel: number | undefined = languageLevel(b)\n",
    "\n",
    "        if (aLevel === undefined) {\n",
    "            if (bLevel === undefined) {\n",
    "                return 0\n",
    "            } else {\n",
    "                return 1\n",
    "            }\n",
    "        } else {\n",
    "            if (bLevel === undefined) {\n",
    "                return -1\n",
    "            } else {\n",
    "                return aLevel - bLevel\n",
    "            }\n",
    "        } \n",
    "    })\n",
    "}"
   ]
  },
  {
   "cell_type": "code",
   "execution_count": 14,
   "metadata": {
    "tags": []
   },
   "outputs": [],
   "source": [
    "function compareApproxLanguage(language: string): Ordering<Interpreter> {\n",
    "    return new Ordering((a, b) => {\n",
    "        function languageLevel(i: any): number | undefined {\n",
    "            return i\n",
    "                .languages\n",
    "                .find(l => l.languageName.includes(language))\n",
    "                ?.level\n",
    "        } \n",
    "\n",
    "        const aLevel: number | undefined = languageLevel(a)\n",
    "        const bLevel: number | undefined = languageLevel(b)\n",
    "\n",
    "        if (aLevel === undefined) {\n",
    "            if (bLevel === undefined) {\n",
    "                return 0\n",
    "            } else {\n",
    "                return 1\n",
    "            }\n",
    "        } else {\n",
    "            if (bLevel === undefined) {\n",
    "                return -1\n",
    "            } else {\n",
    "                return aLevel - bLevel\n",
    "            }\n",
    "        } \n",
    "    })\n",
    "}"
   ]
  },
  {
   "cell_type": "code",
   "execution_count": 15,
   "metadata": {
    "tags": []
   },
   "outputs": [
    {
     "name": "stdout",
     "output_type": "stream",
     "text": [
      "[\n",
      "  {\n",
      "    \"languages\": [\n",
      "      {\n",
      "        \"languageName\": \"french\",\n",
      "        \"level\": 3\n",
      "      }\n",
      "    ]\n",
      "  },\n",
      "  {\n",
      "    \"languages\": [\n",
      "      {\n",
      "        \"languageName\": \"french (québécois)\",\n",
      "        \"level\": 1\n",
      "      },\n",
      "      {\n",
      "        \"languageName\": \"italian\",\n",
      "        \"level\": 2\n",
      "      }\n",
      "    ]\n",
      "  },\n",
      "  {\n",
      "    \"languages\": [\n",
      "      {\n",
      "        \"languageName\": \"italian\",\n",
      "        \"level\": 3\n",
      "      }\n",
      "    ]\n",
      "  }\n",
      "]\n"
     ]
    }
   ],
   "source": [
    "show(EXAMPLE_DATA.slice().sort(compareExactLanguage('french').then(compareApproxLanguage('french')).run))"
   ]
  },
  {
   "cell_type": "code",
   "execution_count": 16,
   "metadata": {
    "tags": []
   },
   "outputs": [],
   "source": [
    "class Ordering<T> {\n",
    "    readonly run: (left: T, right: T) => number\n",
    "    \n",
    "    constructor(run: (left: T, right: T) => number) {\n",
    "        this.run = run\n",
    "    }\n",
    "    \n",
    "    then(next: Ordering<T>): Ordering<T> {\n",
    "        return new Ordering(\n",
    "            (left: T, right: T) => {\n",
    "                const thisOrder = this.run(left, right)\n",
    "                if (thisOrder === 0) {\n",
    "                    return next.run(left, right)\n",
    "                } else {\n",
    "                    return thisOrder\n",
    "                }\n",
    "            }\n",
    "        )\n",
    "    }\n",
    "    \n",
    "    static natural<A>(): Ordering<A> { \n",
    "        return new Ordering((l: A, r: A) => {\n",
    "            if (l < r) {\n",
    "                return -1\n",
    "            } else if (l > r) {\n",
    "                return 1\n",
    "            } else {\n",
    "                return 0\n",
    "            }\n",
    "        })\n",
    "    }\n",
    "    \n",
    "    undefinedLast(): Ordering<T | undefined> {\n",
    "        return new Ordering((l?: T, r?: T) => {\n",
    "            const undefL = l === undefined\n",
    "            const undefR = r === undefined\n",
    "            if (undefL && undefR) {\n",
    "                return 0\n",
    "            } else if (undefR) {\n",
    "                return -1\n",
    "            } else if (undefL) {\n",
    "                return 1\n",
    "            } else {\n",
    "                return this.run(l, r)\n",
    "            }\n",
    "        })\n",
    "    }\n",
    "\n",
    "    coMap<A>(f: (x: A) => T): Ordering<A> {\n",
    "        return new Ordering((left: A, right: A) => this.run(f(left), f(right)))\n",
    "    }\n",
    "}"
   ]
  },
  {
   "cell_type": "code",
   "execution_count": 17,
   "metadata": {
    "tags": []
   },
   "outputs": [
    {
     "name": "stdout",
     "output_type": "stream",
     "text": [
      "[\n",
      "  {\n",
      "    \"languages\": [\n",
      "      {\n",
      "        \"languageName\": \"french\",\n",
      "        \"level\": 3\n",
      "      }\n",
      "    ]\n",
      "  },\n",
      "  {\n",
      "    \"languages\": [\n",
      "      {\n",
      "        \"languageName\": \"french (québécois)\",\n",
      "        \"level\": 1\n",
      "      },\n",
      "      {\n",
      "        \"languageName\": \"italian\",\n",
      "        \"level\": 2\n",
      "      }\n",
      "    ]\n",
      "  },\n",
      "  {\n",
      "    \"languages\": [\n",
      "      {\n",
      "        \"languageName\": \"italian\",\n",
      "        \"level\": 3\n",
      "      }\n",
      "    ]\n",
      "  }\n",
      "]\n"
     ]
    }
   ],
   "source": [
    "const compareExactLanguageLevel = (language: string): Ordering<Interpreter> => Ordering\n",
    "    .natural()\n",
    "    .undefinedLast()\n",
    "    .coMap((i: Interpreter) => i.languages.find(l => l.languageName === language)?.level)\n",
    "    \n",
    "const compareApproxLanguageLevel = (language: string): Ordering<Interpreter> => Ordering\n",
    "    .natural()\n",
    "    .undefinedLast()\n",
    "    .coMap((i: Interpreter) => i.languages.find(l => l.languageName.includes(language))?.level)\n",
    "\n",
    "const order = compareExactLanguageLevel('french').then(compareApproxLanguageLevel('french')).run\n",
    "    \n",
    "show(EXAMPLE_DATA.slice().sort(order))"
   ]
  },
  {
   "cell_type": "code",
   "execution_count": null,
   "metadata": {
    "jupyter": {
     "source_hidden": true
    }
   },
   "outputs": [],
   "source": []
  }
 ],
 "metadata": {
  "kernelspec": {
   "display_name": "TypeScript",
   "language": "typescript",
   "name": "tslab"
  },
  "language_info": {
   "codemirror_mode": {
    "mode": "typescript",
    "name": "javascript",
    "typescript": true
   },
   "file_extension": ".ts",
   "mimetype": "text/typescript",
   "name": "typescript",
   "version": "3.7.2"
  },
  "toc-autonumbering": true,
  "toc-showcode": false,
  "toc-showmarkdowntxt": true
 },
 "nbformat": 4,
 "nbformat_minor": 4
}
